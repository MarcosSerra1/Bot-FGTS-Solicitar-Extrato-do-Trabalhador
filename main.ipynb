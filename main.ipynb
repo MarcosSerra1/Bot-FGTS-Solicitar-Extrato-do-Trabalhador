{
 "cells": [
  {
   "cell_type": "markdown",
   "metadata": {},
   "source": [
    "#### Bibliotecas"
   ]
  },
  {
   "cell_type": "code",
   "execution_count": 22,
   "metadata": {},
   "outputs": [],
   "source": [
    "from time import sleep\n",
    "\n",
    "import pyautogui as bot\n",
    "\n",
    "\n",
    "from selenium import webdriver\n",
    "from selenium.webdriver import ActionChains\n",
    "from selenium.webdriver.chrome.service import Service\n",
    "from selenium.webdriver.common.by import By\n",
    "from selenium.webdriver.common.keys import Keys\n",
    "from utils.pasta_util import criar_pasta\n",
    "import os"
   ]
  },
  {
   "cell_type": "markdown",
   "metadata": {},
   "source": [
    "#### Variáveis Globais"
   ]
  },
  {
   "cell_type": "code",
   "execution_count": 23,
   "metadata": {},
   "outputs": [],
   "source": [
    "nome_trabalhador = \"RAELY KATTARINE FREITAS MOTA COSTA\"\n",
    "base_conta = \"b\""
   ]
  },
  {
   "cell_type": "markdown",
   "metadata": {},
   "source": [
    "#### Iniciando o Navegador"
   ]
  },
  {
   "cell_type": "code",
   "execution_count": 24,
   "metadata": {},
   "outputs": [],
   "source": [
    "# A classe Service é usada para iniciar uma instância do Chrome WebDriver\n",
    "service = Service()\n",
    "\n",
    "# webdriver.ChromeOptions é usada para definir a preferencia para o browser do Chrome\n",
    "options = webdriver.ChromeOptions()\n",
    "\n",
    "# Inicia-se a instância do chrome webdriver com as definidas 'options' e 'service'\n",
    "driver = webdriver.Chrome(service=service, options=options)\n",
    "\n",
    "# Colocando o navegador em tela cheia\n",
    "driver.maximize_window()"
   ]
  },
  {
   "cell_type": "markdown",
   "metadata": {},
   "source": [
    "#### Acessando a pagina do Conectividade Social"
   ]
  },
  {
   "cell_type": "code",
   "execution_count": 25,
   "metadata": {},
   "outputs": [],
   "source": [
    "# URL para o Conectividade Social ICP V2\n",
    "url = 'https://conectividadesocialv2.caixa.gov.br/sicns/'\n",
    "\n",
    "# Abra a URL no navegador controlado pelo Selenium\n",
    "driver.get(url)  # acesso"
   ]
  },
  {
   "cell_type": "markdown",
   "metadata": {},
   "source": [
    "#### Clicando no Botão Empregador"
   ]
  },
  {
   "cell_type": "code",
   "execution_count": 26,
   "metadata": {},
   "outputs": [],
   "source": [
    "# ID do botão empregador: btnEmpregador\n",
    "sleep(20)\n",
    "BTN_EMPREGADOR = 'btnEmpregador'\n",
    "CLIQUE_BTN_EMPREGADOR =  driver.find_element(By.ID, BTN_EMPREGADOR).click()"
   ]
  },
  {
   "cell_type": "markdown",
   "metadata": {},
   "source": [
    "#### Selecionar o Certificado Digital\n",
    "Colocando a posição dele por indexe ou seja o primeiro certificado é zero o segundo é 1 e assim por diante"
   ]
  },
  {
   "cell_type": "code",
   "execution_count": 27,
   "metadata": {},
   "outputs": [],
   "source": [
    "def tab(cliques):\n",
    "    '''\n",
    "    FUNÇÃO PARA DAR TAB COM A BIBLIOTECA PYAUTOGUI\n",
    "\n",
    "    ARGS: cliques\n",
    "\n",
    "    RETURN: NONE\n",
    "    '''\n",
    "\n",
    "    bot.press('tab', cliques)\n",
    "\n",
    "\n",
    "def selecionarCertificado(certificado_index):\n",
    "    '''\n",
    "    FUNÇÃO PARA SELECIONAR O CERTIFICADO POR INDEX\n",
    "\n",
    "    ARGS: cliques\n",
    "\n",
    "    RETURN: NONE\n",
    "    '''\n",
    "\n",
    "    # Converte o índice do certificado para inteiro\n",
    "    certificado_index = int(certificado_index)\n",
    "\n",
    "    # Navega até o certificado desejado na lista e pressiona\n",
    "    # Enter para selecioná-lo\n",
    "    sleep(5)\n",
    "    bot.press('down', certificado_index)\n",
    "    bot.press('enter')\n",
    "\n",
    "    # Aguarda mais 10 segundos antes de confirmar a seleção\n",
    "    sleep(10)\n",
    "    bot.press('down', certificado_index)\n",
    "    bot.press('enter')\n",
    "\n",
    "\n",
    "selecionarCertificado(3)"
   ]
  },
  {
   "cell_type": "markdown",
   "metadata": {},
   "source": [
    "#### Clicando na barra para selecionar o serviço desejado\n",
    "Selecionando a opção de Solicitar extrato do trabalhador ou Comunicar Movimentação do Trabalhador"
   ]
  },
  {
   "cell_type": "code",
   "execution_count": 28,
   "metadata": {},
   "outputs": [],
   "source": [
    "def selecionarExtrato():\n",
    "    '''\n",
    "    FUNÇÃO PARA SELECIONAR A OPÇÃO EXTRATO DO TRABALHADOR\n",
    "\n",
    "    AGRS: NONE\n",
    "\n",
    "    RETURN: NONE\n",
    "    '''\n",
    "\n",
    "    sleep(30)\n",
    "\n",
    "    INPUT_BARRA_SELECAO = \"/html/body/form/table[2]/tbody/tr[1]/td[3]/table/tbody/tr/td[1]/select\"\n",
    "    CLIQUE_INPUT_BARRA_SELECAO = driver.find_element(By.XPATH, INPUT_BARRA_SELECAO)\n",
    "    if CLIQUE_INPUT_BARRA_SELECAO.is_displayed():\n",
    "        CLIQUE_INPUT_BARRA_SELECAO.click()\n",
    "    else:\n",
    "        print(\"O campo para selecionar o serviço desejado não está visível!\")\n",
    "\n",
    "    driver.find_element(By.XPATH, INPUT_BARRA_SELECAO).send_keys(Keys.ARROW_DOWN * 11)\n",
    "\n",
    "    sleep(1)\n",
    "    driver.find_element(By.XPATH, INPUT_BARRA_SELECAO).send_keys(Keys.ENTER)\n",
    "\n",
    "\n",
    "def selecionarChave():\n",
    "    '''\n",
    "    FUNÇÃO PARA SELECIONAR A OPÇÃO DE COMINICAR MOVIMENTAÇÃO DO TRABALHADOR\n",
    "\n",
    "    AGRS: NONE\n",
    "\n",
    "    RETURN: NONE\n",
    "    '''\n",
    "\n",
    "    sleep(30)\n",
    "\n",
    "    INPUT_BARRA_SELECAO = \"/html/body/form/table[2]/tbody/tr[1]/td[3]/table/tbody/tr/td[1]/select\"\n",
    "    CLIQUE_INPUT_BARRA_SELECAO = driver.find_element(By.XPATH, INPUT_BARRA_SELECAO)\n",
    "    if CLIQUE_INPUT_BARRA_SELECAO.is_displayed():\n",
    "        CLIQUE_INPUT_BARRA_SELECAO.click()\n",
    "    else:\n",
    "        print(\"O campo para selecionar o serviço desejado não está visível!\")\n",
    "\n",
    "    \n",
    "    driver.find_element(By.XPATH, INPUT_BARRA_SELECAO).send_keys(Keys.ARROW_DOWN * 3)\n",
    "\n",
    "    sleep(1)\n",
    "    driver.find_element(By.XPATH, INPUT_BARRA_SELECAO).send_keys(Keys.ENTER)\n",
    "\n",
    "\n",
    "selecionarExtrato()"
   ]
  },
  {
   "cell_type": "markdown",
   "metadata": {},
   "source": [
    "#### Informar dados da base de conta"
   ]
  },
  {
   "cell_type": "code",
   "execution_count": 29,
   "metadata": {},
   "outputs": [],
   "source": [
    "def baseConta(base_conta):\n",
    "    '''\n",
    "    FUNÇÃO PARA SELECIONAR A BASE DA CONTA\n",
    "\n",
    "    ARGS: base_conta\n",
    "\n",
    "    RETURN: NONE\n",
    "    '''\n",
    "\n",
    "    # Base da Conta Xpath: /html/body/form/table[2]/tbody/tr[3]/td[3]/p/table/tbody/tr[3]/td[2]/select\n",
    "\n",
    "    sleep(40)\n",
    "\n",
    "    # Selecionando o botão de input base da conta\n",
    "    INPUT_BASE_CONTA = \"/html/body/form/table[2]/tbody/tr[3]/td[3]/p/table/tbody/tr[3]/td[2]/select\"\n",
    "    CLIQUE_INPUT_BASE_CONTA = driver.find_element(By.XPATH, INPUT_BASE_CONTA)\n",
    "    if CLIQUE_INPUT_BASE_CONTA.is_displayed():\n",
    "        CLIQUE_INPUT_BASE_CONTA.click()\n",
    "    else:\n",
    "        print(\"O campo para selecionar a base da conta não está visível!\")\n",
    "\n",
    "    # colocando os dados da base da conta\n",
    "    driver.find_element(By.XPATH, INPUT_BASE_CONTA).send_keys(base_conta)\n",
    "    driver.find_element(By.XPATH, INPUT_BASE_CONTA).send_keys(Keys.ENTER)\n",
    "\n",
    "\n",
    "baseConta(base_conta)"
   ]
  },
  {
   "cell_type": "markdown",
   "metadata": {},
   "source": [
    "#### Colocando os dados do trabalhador"
   ]
  },
  {
   "cell_type": "code",
   "execution_count": null,
   "metadata": {},
   "outputs": [],
   "source": [
    "def nomeTrabalhador(nome_trabalhador):\n",
    "    '''\n",
    "    FUNÇÃO PARA DIGITAR NOME DO TRABALHADOR\n",
    "\n",
    "    ARGS: nome_trabalhador\n",
    "\n",
    "    RETURN: NONE\n",
    "    '''\n",
    "    \n",
    "    # Nome do Trabalhador Xpath: /html/body/form/table[2]/tbody/tr[3]/td[3]/p/table/tbody/tr[7]/td[2]/input\n",
    "\n",
    "    sleep(5)\n",
    "\n",
    "    # Selecionando o botão de input nome trabalhador\n",
    "    INPUT_NOME_TRABALHADOR = \"/html/body/form/table[2]/tbody/tr[3]/td[3]/p/table/tbody/tr[7]/td[2]/input\"\n",
    "    CLIQUE_INPUT_NOME_TRABALHADOR = driver.find_element(By.XPATH, INPUT_NOME_TRABALHADOR)\n",
    "    if CLIQUE_INPUT_NOME_TRABALHADOR.is_displayed():\n",
    "        CLIQUE_INPUT_NOME_TRABALHADOR.click()\n",
    "    else:\n",
    "        print(\"O campo para selecionar a base da conta não está visível!\")\n",
    "\n",
    "\n",
    "    # colocando o nome do trabalhador\n",
    "    sleep(2)\n",
    "    driver.find_element(By.XPATH, INPUT_NOME_TRABALHADOR).send_keys(nome_trabalhador)\n",
    "    driver.find_element(By.XPATH, INPUT_NOME_TRABALHADOR).send_keys(Keys.ENTER)\n",
    "\n",
    "nomeTrabalhador(nome_trabalhador)\n"
   ]
  },
  {
   "cell_type": "markdown",
   "metadata": {},
   "source": [
    "#### Clicando no botão visualizar impressão"
   ]
  },
  {
   "cell_type": "code",
   "execution_count": 31,
   "metadata": {},
   "outputs": [],
   "source": [
    "def tab(cliques):\n",
    "    '''\n",
    "    FUNÇÃO PARA DAR TAB COM A BIBLIOTECA PYAUTOGUI\n",
    "\n",
    "    ARGS: cliques\n",
    "\n",
    "    RETURN: NONE\n",
    "    '''\n",
    "\n",
    "    bot.press('tab', cliques)\n",
    "\n",
    "\n",
    "def visualizarImpressao():\n",
    "    '''\n",
    "    FUNÇÃO PARA VISUALIZAR IMPRESSÃO\n",
    "\n",
    "    ARGS: NONE\n",
    "\n",
    "    RETURN: NONE\n",
    "    '''\n",
    "    \n",
    "    sleep(10)\n",
    "    bot.click(1807, 315, duration=0.1)\n",
    "\n",
    "    # selecionar o botão de visualizar impressão\n",
    "    tab(13)\n",
    "    bot.press('enter')\n",
    "\n",
    "    # clicar no btn imprimir\n",
    "    sleep(10)\n",
    "    tab(1)\n",
    "    bot.press('enter')\n",
    "\n",
    "    # clicar no btn imprimir janela popup\n",
    "    sleep(6)\n",
    "    bot.press('enter')\n",
    "\n",
    "visualizarImpressao()"
   ]
  },
  {
   "cell_type": "markdown",
   "metadata": {},
   "source": [
    "#### Clicando no botão imprimir para salvar como pdf"
   ]
  },
  {
   "cell_type": "code",
   "execution_count": null,
   "metadata": {},
   "outputs": [],
   "source": [
    "\n",
    "def salvarExtrato(nome_trabalhador):\n",
    "    '''\n",
    "    FUNÇÃO PARA SALVAR EXTRATO DO TRABALHADOR E CRIAR UMA PASTA CASO\n",
    "    NÃO TENHA NENHUMA PASTA O DOCUMENTO SALVO SERÁ SALVO COM OS SEGUINTE NOME\n",
    "    EXTRATO FGTS + NOME DO TRABALHADOR.PDF\n",
    "\n",
    "    ARGS: NONE\n",
    "\n",
    "    RETURN: TRUE SE TUDO OCORRER BEM E \n",
    "    FALSE SE ACONTECER ALGUM ERRO\n",
    "    '''\n",
    "\n",
    "    sleep(10)\n",
    "    try:\n",
    "        # Criar a pasta para armazenar os documentos\n",
    "        diretorio_downloads = os.path.expanduser('~') + '/Downloads'\n",
    "        caminho_pasta_fgts = os.path.join(diretorio_downloads, 'FGTS')\n",
    "        sleep(20)\n",
    "        if criar_pasta(caminho_pasta_fgts):\n",
    "            # Configurar o caminho completo para o documento\n",
    "            caminho_documento = os.path.join(\n",
    "                caminho_pasta_fgts, f'EXTRATO FGTS {nome_trabalhador}.pdf')  # Modificar essa parte\n",
    "            \n",
    "\n",
    "            # Configurando tamanho da tela para não ter erro\n",
    "            # bot.doubleClick(1196,16, duration=1)\n",
    "\n",
    "            # Configurar o caminho completo para o documento\n",
    "            sleep(5)\n",
    "            bot.click(1300, 69, duration=1)  # Caminho da pasta FGTS\n",
    "            bot.press('delete')\n",
    "            bot.write(caminho_pasta_fgts)\n",
    "            bot.press('enter')\n",
    "\n",
    "            # Configurar o nome do documento\n",
    "            sleep(5)\n",
    "            # Cordenada para colocar o Nome do Documento\n",
    "            bot.click(788, 886, duration=1)\n",
    "            bot.write(f'EXTRATO FGTS {nome_trabalhador}')  # nome do documento\n",
    "            bot.press('enter')\n",
    "\n",
    "            print(f\"Extrato do FGTS salvo em: {caminho_documento}\")\n",
    "            return True\n",
    "        else:\n",
    "            return False\n",
    "\n",
    "    except Exception as e:\n",
    "        print(f\"Erro ao extrair o extrato do FGTS: {e}\")\n",
    "        return False\n",
    "\n",
    "salvarExtrato(nome_trabalhador)"
   ]
  },
  {
   "cell_type": "markdown",
   "metadata": {},
   "source": [
    "#### Fechando o Navegador"
   ]
  },
  {
   "cell_type": "code",
   "execution_count": 33,
   "metadata": {},
   "outputs": [],
   "source": [
    "sleep(20)\n",
    "driver.quit()"
   ]
  }
 ],
 "metadata": {
  "kernelspec": {
   "display_name": "venv",
   "language": "python",
   "name": "python3"
  },
  "language_info": {
   "codemirror_mode": {
    "name": "ipython",
    "version": 3
   },
   "file_extension": ".py",
   "mimetype": "text/x-python",
   "name": "python",
   "nbconvert_exporter": "python",
   "pygments_lexer": "ipython3",
   "version": "3.12.1"
  }
 },
 "nbformat": 4,
 "nbformat_minor": 2
}
